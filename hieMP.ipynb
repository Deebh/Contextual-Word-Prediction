{
  "cells": [
    {
      "cell_type": "code",
      "execution_count": 1,
      "metadata": {
        "id": "IH9A1jlrDRPq"
      },
      "outputs": [
        {
          "name": "stderr",
          "output_type": "stream",
          "text": [
            "2025-03-02 13:20:43.864074: I tensorflow/core/util/port.cc:153] oneDNN custom operations are on. You may see slightly different numerical results due to floating-point round-off errors from different computation orders. To turn them off, set the environment variable `TF_ENABLE_ONEDNN_OPTS=0`.\n",
            "2025-03-02 13:20:43.949740: E external/local_xla/xla/stream_executor/cuda/cuda_fft.cc:485] Unable to register cuFFT factory: Attempting to register factory for plugin cuFFT when one has already been registered\n",
            "2025-03-02 13:20:44.001080: E external/local_xla/xla/stream_executor/cuda/cuda_dnn.cc:8454] Unable to register cuDNN factory: Attempting to register factory for plugin cuDNN when one has already been registered\n",
            "2025-03-02 13:20:44.009982: E external/local_xla/xla/stream_executor/cuda/cuda_blas.cc:1452] Unable to register cuBLAS factory: Attempting to register factory for plugin cuBLAS when one has already been registered\n",
            "2025-03-02 13:20:44.074662: I tensorflow/core/platform/cpu_feature_guard.cc:210] This TensorFlow binary is optimized to use available CPU instructions in performance-critical operations.\n",
            "To enable the following instructions: AVX2 AVX_VNNI FMA, in other operations, rebuild TensorFlow with the appropriate compiler flags.\n",
            "2025-03-02 13:20:44.763942: W tensorflow/compiler/tf2tensorrt/utils/py_utils.cc:38] TF-TRT Warning: Could not find TensorRT\n"
          ]
        }
      ],
      "source": [
        "# import os\n",
        "# os.environ['TF_CPP_MIN_LOG_LEVEL'] = '1' \n",
        "\n",
        "import pandas as pd\n",
        "import numpy as np\n",
        "import re\n",
        "from sklearn.model_selection import train_test_split\n",
        "from tensorflow.keras.models import Sequential\n",
        "from tensorflow.keras.layers import Embedding, LSTM, Dense"
      ]
    },
    {
      "cell_type": "code",
      "execution_count": 2,
      "metadata": {},
      "outputs": [
        {
          "name": "stdout",
          "output_type": "stream",
          "text": [
            "Num GPUs Available: 1\n"
          ]
        },
        {
          "name": "stderr",
          "output_type": "stream",
          "text": [
            "WARNING: All log messages before absl::InitializeLog() is called are written to STDERR\n",
            "I0000 00:00:1740901847.542183    5368 cuda_executor.cc:1015] successful NUMA node read from SysFS had negative value (-1), but there must be at least one NUMA node, so returning NUMA node zero. See more at https://github.com/torvalds/linux/blob/v6.0/Documentation/ABI/testing/sysfs-bus-pci#L344-L355\n",
            "I0000 00:00:1740901847.699375    5368 cuda_executor.cc:1015] successful NUMA node read from SysFS had negative value (-1), but there must be at least one NUMA node, so returning NUMA node zero. See more at https://github.com/torvalds/linux/blob/v6.0/Documentation/ABI/testing/sysfs-bus-pci#L344-L355\n",
            "I0000 00:00:1740901847.700711    5368 cuda_executor.cc:1015] successful NUMA node read from SysFS had negative value (-1), but there must be at least one NUMA node, so returning NUMA node zero. See more at https://github.com/torvalds/linux/blob/v6.0/Documentation/ABI/testing/sysfs-bus-pci#L344-L355\n"
          ]
        }
      ],
      "source": [
        "import tensorflow as tf\n",
        "print(\"Num GPUs Available:\", len(tf.config.list_physical_devices('GPU')))\n"
      ]
    },
    {
      "cell_type": "code",
      "execution_count": 3,
      "metadata": {
        "colab": {
          "base_uri": "https://localhost:8080/",
          "height": 206
        },
        "id": "OGfHBswGMoEL",
        "outputId": "e346cdda-5229-429f-8611-bdcfe5928add"
      },
      "outputs": [
        {
          "data": {
            "text/html": [
              "<div>\n",
              "<style scoped>\n",
              "    .dataframe tbody tr th:only-of-type {\n",
              "        vertical-align: middle;\n",
              "    }\n",
              "\n",
              "    .dataframe tbody tr th {\n",
              "        vertical-align: top;\n",
              "    }\n",
              "\n",
              "    .dataframe thead th {\n",
              "        text-align: right;\n",
              "    }\n",
              "</style>\n",
              "<table border=\"1\" class=\"dataframe\">\n",
              "  <thead>\n",
              "    <tr style=\"text-align: right;\">\n",
              "      <th></th>\n",
              "      <th>Conversation</th>\n",
              "    </tr>\n",
              "  </thead>\n",
              "  <tbody>\n",
              "    <tr>\n",
              "      <th>0</th>\n",
              "      <td>Hey Radhika! Kaisi ho?</td>\n",
              "    </tr>\n",
              "    <tr>\n",
              "      <th>1</th>\n",
              "      <td>Hey Rohan, main bilkul thik hun. Tu bata, kais...</td>\n",
              "    </tr>\n",
              "    <tr>\n",
              "      <th>2</th>\n",
              "      <td>I'm good too, yaar. Tumne suna ki next week sc...</td>\n",
              "    </tr>\n",
              "    <tr>\n",
              "      <th>3</th>\n",
              "      <td>Haan, mujhe toh pata chal gaya hai. Itna excit...</td>\n",
              "    </tr>\n",
              "    <tr>\n",
              "      <th>4</th>\n",
              "      <td>Bilkul, Radhika. Ek trip miss karunga toh beha...</td>\n",
              "    </tr>\n",
              "  </tbody>\n",
              "</table>\n",
              "</div>"
            ],
            "text/plain": [
              "                                        Conversation\n",
              "0                             Hey Radhika! Kaisi ho?\n",
              "1  Hey Rohan, main bilkul thik hun. Tu bata, kais...\n",
              "2  I'm good too, yaar. Tumne suna ki next week sc...\n",
              "3  Haan, mujhe toh pata chal gaya hai. Itna excit...\n",
              "4  Bilkul, Radhika. Ek trip miss karunga toh beha..."
            ]
          },
          "execution_count": 3,
          "metadata": {},
          "output_type": "execute_result"
        }
      ],
      "source": [
        "df = pd.read_csv(\"hingconvoupdated.csv\")\n",
        "\n",
        "# Display first few rows\n",
        "df.head()"
      ]
    },
    {
      "cell_type": "code",
      "execution_count": 4,
      "metadata": {
        "colab": {
          "base_uri": "https://localhost:8080/",
          "height": 206
        },
        "id": "BcKvV7rPMvN9",
        "outputId": "5a4deb35-3dce-4fa8-e54c-3bdf451970a2"
      },
      "outputs": [
        {
          "data": {
            "text/html": [
              "<div>\n",
              "<style scoped>\n",
              "    .dataframe tbody tr th:only-of-type {\n",
              "        vertical-align: middle;\n",
              "    }\n",
              "\n",
              "    .dataframe tbody tr th {\n",
              "        vertical-align: top;\n",
              "    }\n",
              "\n",
              "    .dataframe thead th {\n",
              "        text-align: right;\n",
              "    }\n",
              "</style>\n",
              "<table border=\"1\" class=\"dataframe\">\n",
              "  <thead>\n",
              "    <tr style=\"text-align: right;\">\n",
              "      <th></th>\n",
              "      <th>Conversation</th>\n",
              "    </tr>\n",
              "  </thead>\n",
              "  <tbody>\n",
              "    <tr>\n",
              "      <th>0</th>\n",
              "      <td>hey radhika kaisi ho</td>\n",
              "    </tr>\n",
              "    <tr>\n",
              "      <th>1</th>\n",
              "      <td>hey rohan main bilkul thik hun tu bata kaisa hai</td>\n",
              "    </tr>\n",
              "    <tr>\n",
              "      <th>2</th>\n",
              "      <td>im good too yaar tumne suna ki next week schoo...</td>\n",
              "    </tr>\n",
              "    <tr>\n",
              "      <th>3</th>\n",
              "      <td>haan mujhe toh pata chal gaya hai itna excited...</td>\n",
              "    </tr>\n",
              "    <tr>\n",
              "      <th>4</th>\n",
              "      <td>bilkul radhika ek trip miss karunga toh behad ...</td>\n",
              "    </tr>\n",
              "  </tbody>\n",
              "</table>\n",
              "</div>"
            ],
            "text/plain": [
              "                                        Conversation\n",
              "0                               hey radhika kaisi ho\n",
              "1   hey rohan main bilkul thik hun tu bata kaisa hai\n",
              "2  im good too yaar tumne suna ki next week schoo...\n",
              "3  haan mujhe toh pata chal gaya hai itna excited...\n",
              "4  bilkul radhika ek trip miss karunga toh behad ..."
            ]
          },
          "execution_count": 4,
          "metadata": {},
          "output_type": "execute_result"
        }
      ],
      "source": [
        "import re\n",
        "\n",
        "def preprocess_text(text):\n",
        "    text = text.lower()  # Convert to lowercase\n",
        "    text = re.sub(r\"http\\S+|www\\S+|https\\S+\", \"\", text, flags=re.MULTILINE)  # Remove URLs\n",
        "    text = re.sub(r\"[^\\w\\s]\", \"\", text)  # Remove punctuation\n",
        "    text = re.sub(r\"\\s+\", \" \", text).strip()  # Remove extra spaces\n",
        "    return text\n",
        "\n",
        "# Apply preprocessing to the conversation column\n",
        "df[\"Conversation\"] = df[\"Conversation\"].astype(str).apply(preprocess_text)\n",
        "\n",
        "# Display cleaned text\n",
        "df.head()\n"
      ]
    },
    {
      "cell_type": "code",
      "execution_count": 5,
      "metadata": {
        "colab": {
          "base_uri": "https://localhost:8080/",
          "height": 206
        },
        "id": "ZEfHn2N1M9sU",
        "outputId": "79c137a6-66b8-449d-b9cb-fbf39f1d03fa"
      },
      "outputs": [
        {
          "data": {
            "text/html": [
              "<div>\n",
              "<style scoped>\n",
              "    .dataframe tbody tr th:only-of-type {\n",
              "        vertical-align: middle;\n",
              "    }\n",
              "\n",
              "    .dataframe tbody tr th {\n",
              "        vertical-align: top;\n",
              "    }\n",
              "\n",
              "    .dataframe thead th {\n",
              "        text-align: right;\n",
              "    }\n",
              "</style>\n",
              "<table border=\"1\" class=\"dataframe\">\n",
              "  <thead>\n",
              "    <tr style=\"text-align: right;\">\n",
              "      <th></th>\n",
              "      <th>Conversation</th>\n",
              "    </tr>\n",
              "  </thead>\n",
              "  <tbody>\n",
              "    <tr>\n",
              "      <th>0</th>\n",
              "      <td>hey radhika kaisi ho</td>\n",
              "    </tr>\n",
              "    <tr>\n",
              "      <th>1</th>\n",
              "      <td>hey rohan main bilkul thik hun tu bata kaisa hai</td>\n",
              "    </tr>\n",
              "    <tr>\n",
              "      <th>2</th>\n",
              "      <td>im good too yaar tumne suna ki next week schoo...</td>\n",
              "    </tr>\n",
              "    <tr>\n",
              "      <th>3</th>\n",
              "      <td>haan mujhe toh pata chal gaya hai itna excited...</td>\n",
              "    </tr>\n",
              "    <tr>\n",
              "      <th>4</th>\n",
              "      <td>bilkul radhika ek trip miss karunga toh behad ...</td>\n",
              "    </tr>\n",
              "  </tbody>\n",
              "</table>\n",
              "</div>"
            ],
            "text/plain": [
              "                                        Conversation\n",
              "0                               hey radhika kaisi ho\n",
              "1   hey rohan main bilkul thik hun tu bata kaisa hai\n",
              "2  im good too yaar tumne suna ki next week schoo...\n",
              "3  haan mujhe toh pata chal gaya hai itna excited...\n",
              "4  bilkul radhika ek trip miss karunga toh behad ..."
            ]
          },
          "execution_count": 5,
          "metadata": {},
          "output_type": "execute_result"
        }
      ],
      "source": [
        "#PREPROCESS\n",
        "import re\n",
        "\n",
        "def preprocess_text(text):\n",
        "    text = text.lower()  # Convert to lowercase\n",
        "    text = re.sub(r\"http\\S+|www\\S+|https\\S+\", \"\", text, flags=re.MULTILINE)  # Remove URLs\n",
        "    text = re.sub(r\"[^\\w\\s]\", \"\", text)  # Remove punctuation\n",
        "    text = re.sub(r\"\\s+\", \" \", text).strip()  # Remove extra spaces\n",
        "    return text\n",
        "\n",
        "# Apply preprocessing to the conversation column\n",
        "df[\"Conversation\"] = df[\"Conversation\"].astype(str).apply(preprocess_text)\n",
        "\n",
        "# Display cleaned text\n",
        "df.head()\n"
      ]
    },
    {
      "cell_type": "code",
      "execution_count": 6,
      "metadata": {
        "id": "f9YM0xWON0Er"
      },
      "outputs": [],
      "source": [
        "import tensorflow as tf\n",
        "from tensorflow.keras.preprocessing.text import Tokenizer\n",
        "from tensorflow.keras.preprocessing.sequence import pad_sequences\n",
        "\n",
        "# Initialize tokenizer\n",
        "tokenizer = Tokenizer()\n",
        "tokenizer.fit_on_texts(df[\"Conversation\"])\n",
        "\n",
        "# Convert text to sequences\n",
        "sequences = tokenizer.texts_to_sequences(df[\"Conversation\"])\n"
      ]
    },
    {
      "cell_type": "code",
      "execution_count": 7,
      "metadata": {
        "id": "TAVC-QosQl0U"
      },
      "outputs": [],
      "source": [
        "# 🚀 Step 4: Prepare Input-Output Data Efficiently\n",
        "input_sequences = []\n",
        "output_words = []\n",
        "\n",
        "# Set a limit on sequence length to prevent memory overload\n",
        "max_seq_length = 50  # Adjust based on available RAM\n",
        "\n",
        "for sequence in sequences:\n",
        "    for i in range(1, min(len(sequence), max_seq_length)):  # Limit sequence expansion\n",
        "        input_sequences.append(sequence[:i])\n",
        "        output_words.append(sequence[i])  # Predict the next word"
      ]
    },
    {
      "cell_type": "code",
      "execution_count": 8,
      "metadata": {
        "id": "5-pqtwgfTSHz"
      },
      "outputs": [],
      "source": [
        "# 🚀 Step 5: Pad Sequences and Convert Output to Sparse Labels\n",
        "max_sequence_length = max(len(seq) for seq in input_sequences)  # Find max length for padding\n",
        "\n",
        "X = pad_sequences(input_sequences, maxlen=max_sequence_length, padding=\"pre\")\n",
        "y = np.array(output_words)  # Use integer encoding instead of one-hot encoding"
      ]
    },
    {
      "cell_type": "code",
      "execution_count": 9,
      "metadata": {
        "id": "GV7DDR7lTVRI"
      },
      "outputs": [],
      "source": [
        "# 🚀 Step 6: Split Data into Training and Validation Sets\n",
        "X_train, X_val, y_train, y_val = train_test_split(X, y, test_size=0.2, random_state=42)\n",
        "\n",
        "# Save processed data to avoid recomputation\n",
        "np.save(\"X.npy\", X)\n",
        "np.save(\"y.npy\", y)"
      ]
    },
    {
      "cell_type": "code",
      "execution_count": 10,
      "metadata": {
        "colab": {
          "base_uri": "https://localhost:8080/"
        },
        "id": "-0WJqCPETV9e",
        "outputId": "7e245f96-d07c-4de3-cb14-7408736d5b31"
      },
      "outputs": [
        {
          "name": "stderr",
          "output_type": "stream",
          "text": [
            "/home/shady/Desktop/project/venv/lib64/python3.10/site-packages/keras/src/layers/core/embedding.py:90: UserWarning: Argument `input_length` is deprecated. Just remove it.\n",
            "  warnings.warn(\n",
            "I0000 00:00:1740901866.682777    5368 cuda_executor.cc:1015] successful NUMA node read from SysFS had negative value (-1), but there must be at least one NUMA node, so returning NUMA node zero. See more at https://github.com/torvalds/linux/blob/v6.0/Documentation/ABI/testing/sysfs-bus-pci#L344-L355\n",
            "I0000 00:00:1740901866.685297    5368 cuda_executor.cc:1015] successful NUMA node read from SysFS had negative value (-1), but there must be at least one NUMA node, so returning NUMA node zero. See more at https://github.com/torvalds/linux/blob/v6.0/Documentation/ABI/testing/sysfs-bus-pci#L344-L355\n",
            "I0000 00:00:1740901866.687542    5368 cuda_executor.cc:1015] successful NUMA node read from SysFS had negative value (-1), but there must be at least one NUMA node, so returning NUMA node zero. See more at https://github.com/torvalds/linux/blob/v6.0/Documentation/ABI/testing/sysfs-bus-pci#L344-L355\n",
            "I0000 00:00:1740901866.778876    5368 cuda_executor.cc:1015] successful NUMA node read from SysFS had negative value (-1), but there must be at least one NUMA node, so returning NUMA node zero. See more at https://github.com/torvalds/linux/blob/v6.0/Documentation/ABI/testing/sysfs-bus-pci#L344-L355\n",
            "I0000 00:00:1740901866.780067    5368 cuda_executor.cc:1015] successful NUMA node read from SysFS had negative value (-1), but there must be at least one NUMA node, so returning NUMA node zero. See more at https://github.com/torvalds/linux/blob/v6.0/Documentation/ABI/testing/sysfs-bus-pci#L344-L355\n",
            "I0000 00:00:1740901866.781134    5368 cuda_executor.cc:1015] successful NUMA node read from SysFS had negative value (-1), but there must be at least one NUMA node, so returning NUMA node zero. See more at https://github.com/torvalds/linux/blob/v6.0/Documentation/ABI/testing/sysfs-bus-pci#L344-L355\n",
            "2025-03-02 13:21:06.782181: I tensorflow/core/common_runtime/gpu/gpu_device.cc:2021] Created device /job:localhost/replica:0/task:0/device:GPU:0 with 6179 MB memory:  -> device: 0, name: NVIDIA GeForce RTX 4060 Laptop GPU, pci bus id: 0000:01:00.0, compute capability: 8.9\n"
          ]
        }
      ],
      "source": [
        "# 🚀 Step 7: Define Optimized LSTM Model\n",
        "vocab_size = len(tokenizer.word_index) + 1  # Total unique words\n",
        "embedding_dim = 100  # Word vector size\n",
        "lstm_units = 256  # LSTM cell size\n",
        "\n",
        "lstm_model = Sequential([\n",
        "    Embedding(input_dim=vocab_size, output_dim=embedding_dim, input_length=max_sequence_length),\n",
        "    LSTM(units=lstm_units, return_sequences=False),\n",
        "    Dense(units=vocab_size, activation=\"softmax\")\n",
        "])\n",
        "\n",
        "# Compile model using sparse categorical crossentropy to reduce memory usage\n",
        "lstm_model.compile(loss=\"sparse_categorical_crossentropy\", optimizer=\"adam\", metrics=[\"accuracy\"])\n"
      ]
    },
    {
      "cell_type": "code",
      "execution_count": 11,
      "metadata": {
        "colab": {
          "base_uri": "https://localhost:8080/"
        },
        "id": "7zv3qHGjTZUN",
        "outputId": "8084c813-9b0e-488b-b64c-dbb6c2daa941"
      },
      "outputs": [
        {
          "name": "stdout",
          "output_type": "stream",
          "text": [
            "Epoch 1/2\n",
            "\u001b[1m   1/4579\u001b[0m \u001b[37m━━━━━━━━━━━━━━━━━━━━\u001b[0m \u001b[1m1:41:36\u001b[0m 1s/step - accuracy: 0.0000e+00 - loss: 9.2079"
          ]
        },
        {
          "name": "stderr",
          "output_type": "stream",
          "text": [
            "2025-03-02 13:21:10.881740: I external/local_xla/xla/stream_executor/cuda/cuda_dnn.cc:531] Loaded cuDNN version 8907\n"
          ]
        },
        {
          "name": "stdout",
          "output_type": "stream",
          "text": [
            "\u001b[1m4579/4579\u001b[0m \u001b[32m━━━━━━━━━━━━━━━━━━━━\u001b[0m\u001b[37m\u001b[0m \u001b[1m30s\u001b[0m 6ms/step - accuracy: 0.0646 - loss: 6.7232 - val_accuracy: 0.1434 - val_loss: 5.5887\n",
            "Epoch 2/2\n",
            "\u001b[1m4579/4579\u001b[0m \u001b[32m━━━━━━━━━━━━━━━━━━━━\u001b[0m\u001b[37m\u001b[0m \u001b[1m29s\u001b[0m 6ms/step - accuracy: 0.1622 - loss: 5.1959 - val_accuracy: 0.1795 - val_loss: 5.2532\n"
          ]
        }
      ],
      "source": [
        "# 🚀 Step 8: Train the Model with Smaller Batch Size\n",
        "history = lstm_model.fit(X_train, y_train, epochs=2, batch_size=32, validation_data=(X_val, y_val))"
      ]
    },
    {
      "cell_type": "code",
      "execution_count": 12,
      "metadata": {
        "id": "wOEEu3Qmj9kl"
      },
      "outputs": [],
      "source": [
        "lstm_model.save(\"hinglish_lstm_model.keras\")"
      ]
    },
    {
      "cell_type": "code",
      "execution_count": 13,
      "metadata": {
        "id": "zTGRWSvvTb_n"
      },
      "outputs": [],
      "source": [
        "# 🚀 Step 10: Function to Predict the Next Word\n",
        "def predict_next_word(input_text, tokenizer, model, max_sequence_length):\n",
        "    input_text = preprocess_text(input_text)  # Apply preprocessing\n",
        "    sequence = tokenizer.texts_to_sequences([input_text])[0]  # Tokenize input\n",
        "    sequence = pad_sequences([sequence], maxlen=max_sequence_length, padding=\"pre\")  # Pad sequence\n",
        "\n",
        "    predicted_index = np.argmax(model.predict(sequence), axis=-1)  # Get most probable word index\n",
        "    predicted_word = tokenizer.index_word.get(predicted_index[0], \"\")  # Convert index to word\n",
        "\n",
        "    return predicted_word"
      ]
    },
    {
      "cell_type": "code",
      "execution_count": 14,
      "metadata": {
        "colab": {
          "base_uri": "https://localhost:8080/"
        },
        "id": "y6GYsaK7UY3Z",
        "outputId": "f8f50428-1304-459b-be09-4e3649914cfc"
      },
      "outputs": [
        {
          "name": "stdout",
          "output_type": "stream",
          "text": [
            "\u001b[1m1/1\u001b[0m \u001b[32m━━━━━━━━━━━━━━━━━━━━\u001b[0m\u001b[37m\u001b[0m \u001b[1m0s\u001b[0m 105ms/step\n",
            "Predicted next words: ['hai', 'hoon', 'hu']\n"
          ]
        }
      ],
      "source": [
        "# 🚀 Step 11: Prompt User Input and Predict Top 3 Next Words\n",
        "def predict_top_words(input_text, tokenizer, model, max_sequence_length, top_n=3):\n",
        "    input_text = preprocess_text(input_text)  # Apply preprocessing\n",
        "    sequence = tokenizer.texts_to_sequences([input_text])[0]  # Tokenize input\n",
        "    sequence = pad_sequences([sequence], maxlen=max_sequence_length, padding=\"pre\")  # Pad sequence\n",
        "\n",
        "    predictions = model.predict(sequence)[0]  # Get probability distribution\n",
        "    top_indices = np.argsort(predictions)[-top_n:][::-1]  # Get top N word indices\n",
        "\n",
        "    top_words = [tokenizer.index_word.get(idx, \"\") for idx in top_indices]  # Convert indices to words\n",
        "\n",
        "    return top_words\n",
        "\n",
        "# Prompt user for input text\n",
        "input_text = input(\"Enter a Hinglish phrase: \")\n",
        "\n",
        "# Predict top 3 most probable next words\n",
        "predicted_words = predict_top_words(input_text, tokenizer, lstm_model, max_sequence_length)\n",
        "print(f\"Predicted next words: {predicted_words}\")\n"
      ]
    },
    {
      "cell_type": "code",
      "execution_count": 15,
      "metadata": {
        "colab": {
          "base_uri": "https://localhost:8080/"
        },
        "id": "n_-fm6D6bmz5",
        "outputId": "1b236c9e-0d8a-4123-f057-87533e20af40"
      },
      "outputs": [
        {
          "name": "stdout",
          "output_type": "stream",
          "text": [
            "Epoch 1/2\n",
            "\u001b[1m4579/4579\u001b[0m \u001b[32m━━━━━━━━━━━━━━━━━━━━\u001b[0m\u001b[37m\u001b[0m \u001b[1m47s\u001b[0m 10ms/step - accuracy: 0.0664 - loss: 6.6759 - val_accuracy: 0.1471 - val_loss: 5.5455\n",
            "Epoch 2/2\n",
            "\u001b[1m4579/4579\u001b[0m \u001b[32m━━━━━━━━━━━━━━━━━━━━\u001b[0m\u001b[37m\u001b[0m \u001b[1m46s\u001b[0m 10ms/step - accuracy: 0.1668 - loss: 5.1569 - val_accuracy: 0.1839 - val_loss: 5.2209\n"
          ]
        }
      ],
      "source": [
        "#Step 12: Implement BiLSTM & GRU Models\n",
        "from tensorflow.keras.layers import Bidirectional\n",
        "\n",
        "# 🚀 Define BiLSTM Model\n",
        "bilstm_model = Sequential([\n",
        "    Embedding(input_dim=vocab_size, output_dim=embedding_dim, input_length=max_sequence_length),\n",
        "    Bidirectional(LSTM(units=lstm_units, return_sequences=False)),  # Bidirectional LSTM\n",
        "    Dense(units=vocab_size, activation=\"softmax\")\n",
        "])\n",
        "\n",
        "# Compile the BiLSTM model\n",
        "bilstm_model.compile(loss=\"sparse_categorical_crossentropy\", optimizer=\"adam\", metrics=[\"accuracy\"])\n",
        "\n",
        "# 🚀 Train the BiLSTM Model\n",
        "history_bilstm = bilstm_model.fit(X_train, y_train, epochs=2, batch_size=32, validation_data=(X_val, y_val))\n",
        "\n",
        "# Save the BiLSTM Model\n",
        "bilstm_model.save(\"hinglish_bilstm_model.keras\")\n"
      ]
    },
    {
      "cell_type": "code",
      "execution_count": 16,
      "metadata": {
        "colab": {
          "base_uri": "https://localhost:8080/"
        },
        "id": "AAsgwyJNboSI",
        "outputId": "f739d74c-0da3-45e7-d654-42257cacf927"
      },
      "outputs": [
        {
          "name": "stdout",
          "output_type": "stream",
          "text": [
            "Epoch 1/2\n",
            "\u001b[1m4579/4579\u001b[0m \u001b[32m━━━━━━━━━━━━━━━━━━━━\u001b[0m\u001b[37m\u001b[0m \u001b[1m29s\u001b[0m 6ms/step - accuracy: 0.0766 - loss: 6.6201 - val_accuracy: 0.1600 - val_loss: 5.4228\n",
            "Epoch 2/2\n",
            "\u001b[1m4579/4579\u001b[0m \u001b[32m━━━━━━━━━━━━━━━━━━━━\u001b[0m\u001b[37m\u001b[0m \u001b[1m28s\u001b[0m 6ms/step - accuracy: 0.1847 - loss: 4.9386 - val_accuracy: 0.1979 - val_loss: 5.1186\n"
          ]
        }
      ],
      "source": [
        "# implement GRU\n",
        "from tensorflow.keras.layers import GRU\n",
        "\n",
        "# 🚀 Define GRU Model\n",
        "gru_model = Sequential([\n",
        "    Embedding(input_dim=vocab_size, output_dim=embedding_dim, input_length=max_sequence_length),\n",
        "    GRU(units=lstm_units, return_sequences=False),  # GRU Layer\n",
        "    Dense(units=vocab_size, activation=\"softmax\")\n",
        "])\n",
        "\n",
        "# Compile the GRU model\n",
        "gru_model.compile(loss=\"sparse_categorical_crossentropy\", optimizer=\"adam\", metrics=[\"accuracy\"])\n",
        "\n",
        "# 🚀 Train the GRU Model\n",
        "history_gru = gru_model.fit(X_train, y_train, epochs=2, batch_size=32, validation_data=(X_val, y_val))\n",
        "\n",
        "# Save the GRU Model\n",
        "gru_model.save(\"hinglish_gru_model.keras\")"
      ]
    },
    {
      "cell_type": "markdown",
      "metadata": {},
      "source": [
        "## BiLSTM- GRU"
      ]
    },
    {
      "cell_type": "code",
      "execution_count": 17,
      "metadata": {},
      "outputs": [
        {
          "name": "stdout",
          "output_type": "stream",
          "text": [
            "Epoch 1/2\n",
            "\u001b[1m4579/4579\u001b[0m \u001b[32m━━━━━━━━━━━━━━━━━━━━\u001b[0m\u001b[37m\u001b[0m \u001b[1m48s\u001b[0m 10ms/step - accuracy: 0.0708 - loss: 6.6576 - val_accuracy: 0.1515 - val_loss: 5.5039\n",
            "Epoch 2/2\n",
            "\u001b[1m4579/4579\u001b[0m \u001b[32m━━━━━━━━━━━━━━━━━━━━\u001b[0m\u001b[37m\u001b[0m \u001b[1m47s\u001b[0m 10ms/step - accuracy: 0.1716 - loss: 5.0828 - val_accuracy: 0.1885 - val_loss: 5.1502\n"
          ]
        }
      ],
      "source": [
        "from tensorflow.keras.layers import Bidirectional, GRU\n",
        "\n",
        "# 🚀 Define Hybrid BiLSTM-GRU Model\n",
        "bilstm_gru_model = Sequential([\n",
        "    Embedding(input_dim=vocab_size, output_dim=embedding_dim, input_length=max_sequence_length),\n",
        "    Bidirectional(LSTM(units=lstm_units, return_sequences=True)),  # Return full sequence for the GRU\n",
        "    GRU(units=lstm_units, return_sequences=False),  # Process the sequence output from BiLSTM\n",
        "    Dense(units=vocab_size, activation=\"softmax\")\n",
        "])\n",
        "\n",
        "# Compile the model\n",
        "bilstm_gru_model.compile(loss=\"sparse_categorical_crossentropy\", optimizer=\"adam\", metrics=[\"accuracy\"])\n",
        "\n",
        "# Train the model\n",
        "history_bilstm_gru = bilstm_gru_model.fit(X_train, y_train, epochs=2, batch_size=32, validation_data=(X_val, y_val))\n",
        "\n",
        "# Save the model\n",
        "bilstm_gru_model.save(\"hinglish_bilstm_gru_model.keras\")\n"
      ]
    },
    {
      "cell_type": "code",
      "execution_count": 20,
      "metadata": {
        "colab": {
          "base_uri": "https://localhost:8080/",
          "height": 472
        },
        "id": "fm1khd3sdzsw",
        "outputId": "3adf0c2e-fd22-4903-b093-82adfe519a23"
      },
      "outputs": [
        {
          "data": {
            "image/png": "[encoded data removed]",
            "text/plain": [
              "<Figure size 640x480 with 1 Axes>"
            ]
          },
          "metadata": {},
          "output_type": "display_data"
        }
      ],
      "source": [
        "import matplotlib.pyplot as plt\n",
        "\n",
        "# Plot validation accuracy for all models\n",
        "plt.plot(history.history['val_accuracy'], label='LSTM')\n",
        "plt.plot(history_bilstm.history['val_accuracy'], label='BiLSTM')\n",
        "plt.plot(history_gru.history['val_accuracy'], label='GRU')\n",
        "plt.plot(history_bilstm_gru.history['val_accuracy'], label='BiLSTM-GRU')  # New hybrid model\n",
        "\n",
        "plt.title('Model Comparison: LSTM vs BiLSTM vs GRU vs BiLSTM-GRU')\n",
        "plt.xlabel('Epochs')\n",
        "plt.ylabel('Validation Accuracy')\n",
        "plt.legend()\n",
        "plt.show()\n"
      ]
    },
    {
      "cell_type": "code",
      "execution_count": 18,
      "metadata": {
        "colab": {
          "base_uri": "https://localhost:8080/"
        },
        "id": "BHps19OmfXp1",
        "outputId": "21a5c56c-9548-48a4-e95d-642ae1a51a12"
      },
      "outputs": [
        {
          "name": "stdout",
          "output_type": "stream",
          "text": [
            "/home/shady/Desktop/project/hinglish_lstm_model.h5\n",
            "/home/shady/Desktop/project/hinglish_bilstm_model.h5\n",
            "/home/shady/Desktop/project/hinglish_gru_model.h5\n"
          ]
        }
      ],
      "source": [
        "import os\n",
        "\n",
        "# Get absolute paths of model files\n",
        "print(os.path.abspath(\"hinglish_lstm_model.h5\"))\n",
        "print(os.path.abspath(\"hinglish_bilstm_model.h5\"))\n",
        "print(os.path.abspath(\"hinglish_gru_model.h5\"))\n",
        "\n"
      ]
    },
    {
      "cell_type": "markdown",
      "metadata": {},
      "source": [
        "## COMPARE ALLN THE MODELS"
      ]
    },
    {
      "cell_type": "code",
      "execution_count": 21,
      "metadata": {
        "colab": {
          "base_uri": "https://localhost:8080/"
        },
        "id": "XE3rBdkdeZqq",
        "outputId": "5f3278e1-c9ae-49a9-967f-e1467778f29a"
      },
      "outputs": [
        {
          "name": "stdout",
          "output_type": "stream",
          "text": [
            "\u001b[1m1/1\u001b[0m \u001b[32m━━━━━━━━━━━━━━━━━━━━\u001b[0m\u001b[37m\u001b[0m \u001b[1m0s\u001b[0m 110ms/step\n",
            "Predicted next words using BILSTM-GRU: ['hai', 'hoon', 'ho']\n"
          ]
        }
      ],
      "source": [
        "from tensorflow.keras.models import load_model\n",
        "\n",
        "# Load all trained models\n",
        "lstm_model = load_model(\"hinglish_lstm_model.keras\")\n",
        "bilstm_model = load_model(\"hinglish_bilstm_model.keras\")\n",
        "gru_model = load_model(\"hinglish_gru_model.keras\")\n",
        "bilstm_gru_model = load_model(\"hinglish_bilstm_gru_model.keras\")  # New hybrid model\n",
        "\n",
        "# 🚀 Function to Predict Next Words Using a Selected Model\n",
        "def predict_next_words(input_text, model_choice, tokenizer, max_sequence_length, top_n=3):\n",
        "    input_text = preprocess_text(input_text)  # Apply preprocessing\n",
        "    sequence = tokenizer.texts_to_sequences([input_text])[0]  # Tokenize input\n",
        "    sequence = pad_sequences([sequence], maxlen=max_sequence_length, padding=\"pre\")  # Pad sequence\n",
        "\n",
        "    # Convert user input to lowercase to make it case-insensitive\n",
        "    model_choice = model_choice.strip().lower()\n",
        "\n",
        "    # Select model based on user input\n",
        "    if model_choice == \"lstm\":\n",
        "        model = lstm_model\n",
        "    elif model_choice == \"bilstm\":\n",
        "        model = bilstm_model\n",
        "    elif model_choice == \"gru\":\n",
        "        model = gru_model\n",
        "    elif model_choice in [\"bilstm-gru\", \"bilstmgru\"]:\n",
        "        model = bilstm_gru_model\n",
        "    else:\n",
        "        print(\"Invalid model choice! Using LSTM by default.\")\n",
        "        model = lstm_model\n",
        "\n",
        "    predictions = model.predict(sequence)[0]  # Get probability distribution\n",
        "    top_indices = np.argsort(predictions)[-top_n:][::-1]  # Get top N word indices\n",
        "    top_words = [tokenizer.index_word.get(idx, \"\") for idx in top_indices]  # Convert indices to words\n",
        "\n",
        "    return top_words\n",
        "\n",
        "# 🚀 User Prompt to Select Model and Input Text\n",
        "model_choice = input(\"Choose a model (LSTM / BiLSTM / GRU / BiLSTM-GRU): \").strip().lower()\n",
        "input_text = input(\"Enter a Hinglish phrase: \")\n",
        "\n",
        "# Predict using the chosen model\n",
        "predicted_words = predict_next_words(input_text, model_choice, tokenizer, max_sequence_length)\n",
        "print(f\"Predicted next words using {model_choice.upper()}: {predicted_words}\")\n"
      ]
    },
    {
      "cell_type": "code",
      "execution_count": null,
      "metadata": {},
      "outputs": [],
      "source": []
    }
  ],
  "metadata": {
    "accelerator": "GPU",
    "colab": {
      "gpuType": "T4",
      "provenance": []
    },
    "kernelspec": {
      "display_name": "venv",
      "language": "python",
      "name": "python3"
    },
    "language_info": {
      "codemirror_mode": {
        "name": "ipython",
        "version": 3
      },
      "file_extension": ".py",
      "mimetype": "text/x-python",
      "name": "python",
      "nbconvert_exporter": "python",
      "pygments_lexer": "ipython3",
      "version": "3.10.16"
    },
    "widgets": {
      "application/vnd.jupyter.widget-state+json": {
        "0c8e47b821f645a38cbaafe7de5f96f8": {
          "model_module": "@jupyter-widgets/base",
          "model_module_version": "1.2.0",
          "model_name": "LayoutModel",
          "state": {
            "_model_module": "@jupyter-widgets/base",
            "_model_module_version": "1.2.0",
            "_model_name": "LayoutModel",
            "_view_count": null,
            "_view_module": "@jupyter-widgets/base",
            "_view_module_version": "1.2.0",
            "_view_name": "LayoutView",
            "align_content": null,
            "align_items": null,
            "align_self": null,
            "border": null,
            "bottom": null,
            "display": null,
            "flex": null,
            "flex_flow": null,
            "grid_area": null,
            "grid_auto_columns": null,
            "grid_auto_flow": null,
            "grid_auto_rows": null,
            "grid_column": null,
            "grid_gap": null,
            "grid_row": null,
            "grid_template_areas": null,
            "grid_template_columns": null,
            "grid_template_rows": null,
            "height": null,
            "justify_content": null,
            "justify_items": null,
            "left": null,
            "margin": null,
            "max_height": null,
            "max_width": null,
            "min_height": null,
            "min_width": null,
            "object_fit": null,
            "object_position": null,
            "order": null,
            "overflow": null,
            "overflow_x": null,
            "overflow_y": null,
            "padding": null,
            "right": null,
            "top": null,
            "visibility": null,
            "width": null
          }
        },
        "6f779a02644e4fa6ae64098d9cfd915b": {
          "model_module": "@jupyter-widgets/controls",
          "model_module_version": "1.5.0",
          "model_name": "HBoxModel",
          "state": {
            "_dom_classes": [],
            "_model_module": "@jupyter-widgets/controls",
            "_model_module_version": "1.5.0",
            "_model_name": "HBoxModel",
            "_view_count": null,
            "_view_module": "@jupyter-widgets/controls",
            "_view_module_version": "1.5.0",
            "_view_name": "HBoxView",
            "box_style": "",
            "children": [
              "IPY_MODEL_8bf33d2b45e947d7903115c6669096c4",
              "IPY_MODEL_81acee624b154510b1b298cd8ed520dc",
              "IPY_MODEL_8dd8c1d540bc4a26ae327bbf3b4e130b"
            ],
            "layout": "IPY_MODEL_886c2777a5a14817b043c2e9cf77c65b"
          }
        },
        "81acee624b154510b1b298cd8ed520dc": {
          "model_module": "@jupyter-widgets/controls",
          "model_module_version": "1.5.0",
          "model_name": "FloatProgressModel",
          "state": {
            "_dom_classes": [],
            "_model_module": "@jupyter-widgets/controls",
            "_model_module_version": "1.5.0",
            "_model_name": "FloatProgressModel",
            "_view_count": null,
            "_view_module": "@jupyter-widgets/controls",
            "_view_module_version": "1.5.0",
            "_view_name": "ProgressView",
            "bar_style": "danger",
            "description": "",
            "description_tooltip": null,
            "layout": "IPY_MODEL_eea5125318c8433daba0ceeb527a47af",
            "max": 9999,
            "min": 0,
            "orientation": "horizontal",
            "style": "IPY_MODEL_c5ff42b655784e89a6cd4c283aaab472",
            "value": 0
          }
        },
        "886c2777a5a14817b043c2e9cf77c65b": {
          "model_module": "@jupyter-widgets/base",
          "model_module_version": "1.2.0",
          "model_name": "LayoutModel",
          "state": {
            "_model_module": "@jupyter-widgets/base",
            "_model_module_version": "1.2.0",
            "_model_name": "LayoutModel",
            "_view_count": null,
            "_view_module": "@jupyter-widgets/base",
            "_view_module_version": "1.2.0",
            "_view_name": "LayoutView",
            "align_content": null,
            "align_items": null,
            "align_self": null,
            "border": null,
            "bottom": null,
            "display": null,
            "flex": null,
            "flex_flow": null,
            "grid_area": null,
            "grid_auto_columns": null,
            "grid_auto_flow": null,
            "grid_auto_rows": null,
            "grid_column": null,
            "grid_gap": null,
            "grid_row": null,
            "grid_template_areas": null,
            "grid_template_columns": null,
            "grid_template_rows": null,
            "height": null,
            "justify_content": null,
            "justify_items": null,
            "left": null,
            "margin": null,
            "max_height": null,
            "max_width": null,
            "min_height": null,
            "min_width": null,
            "object_fit": null,
            "object_position": null,
            "order": null,
            "overflow": null,
            "overflow_x": null,
            "overflow_y": null,
            "padding": null,
            "right": null,
            "top": null,
            "visibility": null,
            "width": null
          }
        },
        "8bf33d2b45e947d7903115c6669096c4": {
          "model_module": "@jupyter-widgets/controls",
          "model_module_version": "1.5.0",
          "model_name": "HTMLModel",
          "state": {
            "_dom_classes": [],
            "_model_module": "@jupyter-widgets/controls",
            "_model_module_version": "1.5.0",
            "_model_name": "HTMLModel",
            "_view_count": null,
            "_view_module": "@jupyter-widgets/controls",
            "_view_module_version": "1.5.0",
            "_view_name": "HTMLView",
            "description": "",
            "description_tooltip": null,
            "layout": "IPY_MODEL_0c8e47b821f645a38cbaafe7de5f96f8",
            "placeholder": "​",
            "style": "IPY_MODEL_b71b7dd7738c4f4fae75b6725d7411e4",
            "value": "Map:   0%"
          }
        },
        "8dd8c1d540bc4a26ae327bbf3b4e130b": {
          "model_module": "@jupyter-widgets/controls",
          "model_module_version": "1.5.0",
          "model_name": "HTMLModel",
          "state": {
            "_dom_classes": [],
            "_model_module": "@jupyter-widgets/controls",
            "_model_module_version": "1.5.0",
            "_model_name": "HTMLModel",
            "_view_count": null,
            "_view_module": "@jupyter-widgets/controls",
            "_view_module_version": "1.5.0",
            "_view_name": "HTMLView",
            "description": "",
            "description_tooltip": null,
            "layout": "IPY_MODEL_f8bdc22dbe2f4aa9b210c4f809b729bd",
            "placeholder": "​",
            "style": "IPY_MODEL_c4c00188b95f41f8b169beed834bb699",
            "value": " 0/9999 [00:00&lt;?, ? examples/s]"
          }
        },
        "b71b7dd7738c4f4fae75b6725d7411e4": {
          "model_module": "@jupyter-widgets/controls",
          "model_module_version": "1.5.0",
          "model_name": "DescriptionStyleModel",
          "state": {
            "_model_module": "@jupyter-widgets/controls",
            "_model_module_version": "1.5.0",
            "_model_name": "DescriptionStyleModel",
            "_view_count": null,
            "_view_module": "@jupyter-widgets/base",
            "_view_module_version": "1.2.0",
            "_view_name": "StyleView",
            "description_width": ""
          }
        },
        "c4c00188b95f41f8b169beed834bb699": {
          "model_module": "@jupyter-widgets/controls",
          "model_module_version": "1.5.0",
          "model_name": "DescriptionStyleModel",
          "state": {
            "_model_module": "@jupyter-widgets/controls",
            "_model_module_version": "1.5.0",
            "_model_name": "DescriptionStyleModel",
            "_view_count": null,
            "_view_module": "@jupyter-widgets/base",
            "_view_module_version": "1.2.0",
            "_view_name": "StyleView",
            "description_width": ""
          }
        },
        "c5ff42b655784e89a6cd4c283aaab472": {
          "model_module": "@jupyter-widgets/controls",
          "model_module_version": "1.5.0",
          "model_name": "ProgressStyleModel",
          "state": {
            "_model_module": "@jupyter-widgets/controls",
            "_model_module_version": "1.5.0",
            "_model_name": "ProgressStyleModel",
            "_view_count": null,
            "_view_module": "@jupyter-widgets/base",
            "_view_module_version": "1.2.0",
            "_view_name": "StyleView",
            "bar_color": null,
            "description_width": ""
          }
        },
        "eea5125318c8433daba0ceeb527a47af": {
          "model_module": "@jupyter-widgets/base",
          "model_module_version": "1.2.0",
          "model_name": "LayoutModel",
          "state": {
            "_model_module": "@jupyter-widgets/base",
            "_model_module_version": "1.2.0",
            "_model_name": "LayoutModel",
            "_view_count": null,
            "_view_module": "@jupyter-widgets/base",
            "_view_module_version": "1.2.0",
            "_view_name": "LayoutView",
            "align_content": null,
            "align_items": null,
            "align_self": null,
            "border": null,
            "bottom": null,
            "display": null,
            "flex": null,
            "flex_flow": null,
            "grid_area": null,
            "grid_auto_columns": null,
            "grid_auto_flow": null,
            "grid_auto_rows": null,
            "grid_column": null,
            "grid_gap": null,
            "grid_row": null,
            "grid_template_areas": null,
            "grid_template_columns": null,
            "grid_template_rows": null,
            "height": null,
            "justify_content": null,
            "justify_items": null,
            "left": null,
            "margin": null,
            "max_height": null,
            "max_width": null,
            "min_height": null,
            "min_width": null,
            "object_fit": null,
            "object_position": null,
            "order": null,
            "overflow": null,
            "overflow_x": null,
            "overflow_y": null,
            "padding": null,
            "right": null,
            "top": null,
            "visibility": null,
            "width": null
          }
        },
        "f8bdc22dbe2f4aa9b210c4f809b729bd": {
          "model_module": "@jupyter-widgets/base",
          "model_module_version": "1.2.0",
          "model_name": "LayoutModel",
          "state": {
            "_model_module": "@jupyter-widgets/base",
            "_model_module_version": "1.2.0",
            "_model_name": "LayoutModel",
            "_view_count": null,
            "_view_module": "@jupyter-widgets/base",
            "_view_module_version": "1.2.0",
            "_view_name": "LayoutView",
            "align_content": null,
            "align_items": null,
            "align_self": null,
            "border": null,
            "bottom": null,
            "display": null,
            "flex": null,
            "flex_flow": null,
            "grid_area": null,
            "grid_auto_columns": null,
            "grid_auto_flow": null,
            "grid_auto_rows": null,
            "grid_column": null,
            "grid_gap": null,
            "grid_row": null,
            "grid_template_areas": null,
            "grid_template_columns": null,
            "grid_template_rows": null,
            "height": null,
            "justify_content": null,
            "justify_items": null,
            "left": null,
            "margin": null,
            "max_height": null,
            "max_width": null,
            "min_height": null,
            "min_width": null,
            "object_fit": null,
            "object_position": null,
            "order": null,
            "overflow": null,
            "overflow_x": null,
            "overflow_y": null,
            "padding": null,
            "right": null,
            "top": null,
            "visibility": null,
            "width": null
          }
        }
      }
    }
  },
  "nbformat": 4,
  "nbformat_minor": 0
}
